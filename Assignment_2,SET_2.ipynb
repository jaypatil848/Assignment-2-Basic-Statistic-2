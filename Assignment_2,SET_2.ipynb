{
  "nbformat": 4,
  "nbformat_minor": 0,
  "metadata": {
    "colab": {
      "name": "Assignment-2,SET-2.ipynb",
      "provenance": [],
      "authorship_tag": "ABX9TyNgAwO3O/eNcn8q2ATn/f/7",
      "include_colab_link": true
    },
    "kernelspec": {
      "name": "python3",
      "display_name": "Python 3"
    },
    "language_info": {
      "name": "python"
    }
  },
  "cells": [
    {
      "cell_type": "markdown",
      "metadata": {
        "id": "view-in-github",
        "colab_type": "text"
      },
      "source": [
        "<a href=\"https://colab.research.google.com/github/jaypatil848/Assignment-2-Basic-Statistic-2/blob/main/Assignment_2%2CSET_2.ipynb\" target=\"_parent\"><img src=\"https://colab.research.google.com/assets/colab-badge.svg\" alt=\"Open In Colab\"/></a>"
      ]
    },
    {
      "cell_type": "code",
      "execution_count": 15,
      "metadata": {
        "id": "toQYVTh7taYe"
      },
      "outputs": [],
      "source": [
        "import pandas as pd\n",
        "import numpy as np\n",
        "import matplotlib.pyplot as plt\n",
        "import scipy.stats as stats\n",
        "import seaborn as sns\n",
        "import statsmodels.api as smf\n",
        "import warnings\n",
        "warnings.filterwarnings('ignore')\n"
      ]
    },
    {
      "cell_type": "markdown",
      "source": [
        "#Question 1\n",
        "1.\tThe time required for servicing transmissions is normally distributed with  = 45 minutes and  = 8 minutes. The service manager plans to have work begin on the transmission of a customer’s car 10 minutes after the car is dropped off and the customer is told that the car will be ready within 1 hour from drop-off. What is the probability that the service manager cannot meet his commitment? \n",
        "\n",
        "A.\t0.3875   \n",
        "B.\t0.2676   \n",
        "C.\t0.5   \n",
        "D.\t0.6987 \n"
      ],
      "metadata": {
        "id": "xNH4Z7ySuA0l"
      }
    },
    {
      "cell_type": "code",
      "source": [
        "##the serving work will began after 10 min of drop off so 45+10 \n",
        "##which will now take more than the usual time so new mew is 55 minutes \n",
        "##The porbbaility that it will take more than 1 hour to complete\n",
        "time = 55\n",
        "std = 8\n",
        "q1 = stats.norm.sf(60, loc = time, scale = std)\n",
        "print(\"\"\"The probability that the service manager cannot meet his \n",
        "      commitment is\"\"\",np.round(q1,5))"
      ],
      "metadata": {
        "colab": {
          "base_uri": "https://localhost:8080/"
        },
        "id": "IEXYbs7WtxAp",
        "outputId": "2f5c4db2-0175-425e-fdb9-3c1061b363b5"
      },
      "execution_count": 16,
      "outputs": [
        {
          "output_type": "stream",
          "name": "stdout",
          "text": [
            "The probability that the service manager cannot meet his \n",
            "      commitment is 0.26599\n"
          ]
        }
      ]
    },
    {
      "cell_type": "markdown",
      "source": [
        "#Question 2\n",
        "2.\tThe current age (in years) of 400 clerical employees at an insurance claims processing center is normally distributed with mean  = 38 and Standard deviation  =6. For each statement below, please specify True/False. If false, briefly explain why.\n",
        "\n",
        "A.\tMore employees at the processing center are older than 44 than between 38 and 44.\n",
        "\n",
        "B.\tA training program for employees under the age of 30 at the center would be expected to attract about 36 employees.\n",
        "\n"
      ],
      "metadata": {
        "id": "ctifJwdGvaIb"
      }
    },
    {
      "cell_type": "code",
      "source": [
        "mean = 38\n",
        "std1 = 6\n",
        "lessthan_38 = stats.norm.cdf(38, loc = mean, scale = std1)\n",
        "\n",
        "\n",
        "lessthan_44 = stats.norm.cdf(44, loc = mean,  scale = std1)\n",
        "\n",
        "\n",
        "betweeen_38_and_44 = (lessthan_44 - lessthan_38)\n",
        "print('The probability of employee age betweeen 38 and 44 is',np.round(\\\n",
        "betweeen_38_and_44*100,2),'%') \n",
        "\n",
        "morethan_44 = 1-stats.norm.cdf(44, loc = mean, scale = std1)\n",
        "print('The probability of employee age more than 44 is',np.round(\\\n",
        "morethan_44*100,2),'%')\n",
        "\n",
        "true_or_false = (morethan_44 > betweeen_38_and_44)\n",
        "print('Answer:',true_or_false)\n",
        "\n",
        "b = stats.norm.cdf(30, loc = mean, scale = std1)\n",
        "print(\"\"\"A training program for employees under the age of 30 at the center\\\n",
        " would be expected to attract about\"\"\"\n",
        "      ,np.round((b*400),0),'employees')"
      ],
      "metadata": {
        "colab": {
          "base_uri": "https://localhost:8080/"
        },
        "id": "lI2Z2ZTpuTbn",
        "outputId": "dba54ab5-edfd-4813-e55a-eb8d8024a896"
      },
      "execution_count": 17,
      "outputs": [
        {
          "output_type": "stream",
          "name": "stdout",
          "text": [
            "The probability of employee age betweeen 38 and 44 is 34.13 %\n",
            "The probability of employee age more than 44 is 15.87 %\n",
            "Answer: False\n",
            "A training program for employees under the age of 30 at the center would be expected to attract about 36.0 employees\n"
          ]
        }
      ]
    },
    {
      "cell_type": "markdown",
      "source": [
        "#Question 4\n",
        "4.\tLet X ~ N(100, 202). Find two values, a and b, symmetric about the mean, such that the probability of the random variable taking a value between them is 0.99. \n",
        "\n",
        "A.\t90.5, 105.9 \n",
        "B.\t80.2, 119.8 \n",
        "C.\t22, 78 \n",
        "D.\t48.5, 151.5 \n",
        "E.\t90.1, 109.9\n"
      ],
      "metadata": {
        "id": "4EFSYI-ZwqkC"
      }
    },
    {
      "cell_type": "code",
      "source": [
        "print(\"\"\"The two values of a and b, symmetric about the mean, \n",
        "      are such that the probability of the random variable \n",
        "      taking a value between them is 0.99:\"\"\",np.round(stats.norm.interval(\\\n",
        "0.99,loc = 100, scale = 20),1))"
      ],
      "metadata": {
        "colab": {
          "base_uri": "https://localhost:8080/"
        },
        "id": "qgNYl2bcwYc_",
        "outputId": "88cc7761-2eb4-43ce-8536-8e74916f0a55"
      },
      "execution_count": 18,
      "outputs": [
        {
          "output_type": "stream",
          "name": "stdout",
          "text": [
            "The two values of a and b, symmetric about the mean, \n",
            "      are such that the probability of the random variable \n",
            "      taking a value between them is 0.99: [ 48.5 151.5]\n"
          ]
        }
      ]
    },
    {
      "cell_type": "markdown",
      "source": [
        "#Question 5\n",
        "5.\tConsider a company that has two different divisions. The annual profits from the two divisions are independent and have distributions Profit1 ~ N(5, 32) and Profit2 ~ N(7, 42) respectively. Both the profits are in Million.Answer the following questions about the total profit of the company in Rupees. Assume that $1 = Rs. 45\n",
        "A.\tSpecify a Rupee range (centered on the mean) such that it contains 95% probability for the annual profit of the company.\n",
        "B.\tSpecify the 5th percentile of profit (in Rupees) for the company\n",
        "C.\tWhich of the two divisions has a larger probability of making a loss in a given year?\n"
      ],
      "metadata": {
        "id": "do-i5exnxe1z"
      }
    },
    {
      "cell_type": "code",
      "source": [
        "## Mean profits from two different divisions of a company = Mean1 + Mean2\n",
        "Mean = 5+7\n",
        "print('Mean Profit is Rs', Mean*45,'Million')\n"
      ],
      "metadata": {
        "id": "3DqqFXtKxWC4",
        "colab": {
          "base_uri": "https://localhost:8080/"
        },
        "outputId": "aed1b9d9-d2b6-46eb-c93c-b67c7695322c"
      },
      "execution_count": 19,
      "outputs": [
        {
          "output_type": "stream",
          "name": "stdout",
          "text": [
            "Mean Profit is Rs 540 Million\n"
          ]
        }
      ]
    },
    {
      "cell_type": "code",
      "source": [
        "## Variance of profits from two different divisions of a company = SD^2 = SD1^2 + SD2^2\n",
        "SD = np.sqrt((9)+(16))\n",
        "print('Standard Deviation is Rs', SD*45, 'Million')"
      ],
      "metadata": {
        "colab": {
          "base_uri": "https://localhost:8080/"
        },
        "id": "Wvg1Y8h0TWn7",
        "outputId": "6d3f6475-6ad8-4e27-f531-b189dead6679"
      },
      "execution_count": 20,
      "outputs": [
        {
          "output_type": "stream",
          "name": "stdout",
          "text": [
            "Standard Deviation is Rs 225.0 Million\n"
          ]
        }
      ]
    },
    {
      "cell_type": "code",
      "source": [
        "## A. Specify a Rupee range (centered on the mean) such that it contains 95% probability for the annual profit of the company.\n",
        "print('Range is Rs',(stats.norm.interval(0.95,540,225)),'in Millions')"
      ],
      "metadata": {
        "colab": {
          "base_uri": "https://localhost:8080/"
        },
        "id": "ci7_e8aETZlG",
        "outputId": "699f357f-6b9a-40cf-9959-07f48b642022"
      },
      "execution_count": 21,
      "outputs": [
        {
          "output_type": "stream",
          "name": "stdout",
          "text": [
            "Range is Rs (99.00810347848784, 980.9918965215122) in Millions\n"
          ]
        }
      ]
    },
    {
      "cell_type": "code",
      "source": [
        "## B. Specify the 5th percentile of profit (in Rupees) for the company\n",
        "## To compute 5th Percentile, we use the formula X=μ + Zσ; wherein from z table, 5 percentile = -1.645\n",
        "X= 540+(-1.645)*(225)\n",
        "print('5th percentile of profit (in Million Rupees) is',np.round(X,))"
      ],
      "metadata": {
        "colab": {
          "base_uri": "https://localhost:8080/"
        },
        "id": "rJ_hGHH9TcKj",
        "outputId": "0da1c5ef-a9f7-427a-dab0-7b352bf3ebf3"
      },
      "execution_count": 22,
      "outputs": [
        {
          "output_type": "stream",
          "name": "stdout",
          "text": [
            "5th percentile of profit (in Million Rupees) is 170.0\n"
          ]
        }
      ]
    },
    {
      "cell_type": "code",
      "source": [
        "## C. Which of the two divisions has a larger probability of making a loss in a given year?\n",
        "\n"
      ],
      "metadata": {
        "id": "AHhyag4NTfVz"
      },
      "execution_count": 23,
      "outputs": []
    },
    {
      "cell_type": "code",
      "source": [
        "## Probability of Division 1 making a loss P(X<0)\n",
        "stats.norm.cdf(0,5,3)"
      ],
      "metadata": {
        "colab": {
          "base_uri": "https://localhost:8080/"
        },
        "id": "5pOjErMJTvff",
        "outputId": "de0e3270-0c49-4f01-8bcd-69d544da63a7"
      },
      "execution_count": 24,
      "outputs": [
        {
          "output_type": "execute_result",
          "data": {
            "text/plain": [
              "0.0477903522728147"
            ]
          },
          "metadata": {},
          "execution_count": 24
        }
      ]
    },
    {
      "cell_type": "code",
      "source": [
        "## Probability of Division 2 making a loss P(X<0)\n",
        "stats.norm.cdf(0,7,4)"
      ],
      "metadata": {
        "colab": {
          "base_uri": "https://localhost:8080/"
        },
        "id": "7EfJLZvDT0xq",
        "outputId": "9707d865-345b-4d64-cadc-b1f634e67d0c"
      },
      "execution_count": 25,
      "outputs": [
        {
          "output_type": "execute_result",
          "data": {
            "text/plain": [
              "0.040059156863817086"
            ]
          },
          "metadata": {},
          "execution_count": 25
        }
      ]
    },
    {
      "cell_type": "code",
      "source": [
        ""
      ],
      "metadata": {
        "id": "AgMePdCcT2e2"
      },
      "execution_count": 25,
      "outputs": []
    }
  ]
}