{
  "nbformat": 4,
  "nbformat_minor": 0,
  "metadata": {
    "colab": {
      "name": "Assignment 2-Set-4-Q-3.ipynb",
      "provenance": [],
      "collapsed_sections": [],
      "authorship_tag": "ABX9TyNRoPXbJwBp7cpyMBlEjL4B",
      "include_colab_link": true
    },
    "kernelspec": {
      "name": "python3",
      "display_name": "Python 3"
    },
    "language_info": {
      "name": "python"
    }
  },
  "cells": [
    {
      "cell_type": "markdown",
      "metadata": {
        "id": "view-in-github",
        "colab_type": "text"
      },
      "source": [
        "<a href=\"https://colab.research.google.com/github/jaypatil848/Assignment-2-Basic-Statistic-2/blob/main/Assignment_2_Set_4_Q_3.ipynb\" target=\"_parent\"><img src=\"https://colab.research.google.com/assets/colab-badge.svg\" alt=\"Open In Colab\"/></a>"
      ]
    },
    {
      "cell_type": "code",
      "execution_count": null,
      "metadata": {
        "id": "p4fw_pIlCNr4"
      },
      "outputs": [],
      "source": [
        "import numpy as np\n",
        "from scipy import stats\n",
        "from scipy.stats import norm"
      ]
    },
    {
      "cell_type": "markdown",
      "source": [
        "Auditors at a small community bank randomly sample 100 withdrawal transactions made during the week at an ATM machine located near the bank’s main branch. Over the past 2 years, the average withdrawal amount has been 40. Since audit investigations are typically expensive, the auditors decide to not initiate further investigations if the mean transaction amount of the sample is between 55. What is the probability that in any given week, there will be an investigation?\n",
        "A. 1.25% B. 2.5% C. 10.55% D. 21.1% E. 50%"
      ],
      "metadata": {
        "id": "bHwZe1nbChce"
      }
    },
    {
      "cell_type": "code",
      "source": [
        "# For No investigation P(45<X<55)\n",
        "# For Investigation 1-P(45<X<55)"
      ],
      "metadata": {
        "id": "YeK6aNDjCbNj"
      },
      "execution_count": null,
      "outputs": []
    },
    {
      "cell_type": "code",
      "source": [
        "# find z-scores at x=45; z=(s_mean-P_mean)/(p_SD/sqrt(n))\n",
        "z=(45-50)/(40/100**0.5)\n",
        "z"
      ],
      "metadata": {
        "colab": {
          "base_uri": "https://localhost:8080/"
        },
        "id": "3-ELMlRlCu4h",
        "outputId": "8453ebe3-a8d2-46ac-8f92-a755f89eb354"
      },
      "execution_count": null,
      "outputs": [
        {
          "output_type": "execute_result",
          "data": {
            "text/plain": [
              "-1.25"
            ]
          },
          "metadata": {},
          "execution_count": 3
        }
      ]
    },
    {
      "cell_type": "code",
      "source": [
        "# For No investigation P(45<X<55) using z_scores = P(X<50)-P(X<45)\n",
        "stats.norm.cdf(1.25)-stats.norm.cdf(-1.25)"
      ],
      "metadata": {
        "colab": {
          "base_uri": "https://localhost:8080/"
        },
        "id": "OsuWC8hSCxDD",
        "outputId": "e4cf15ec-339c-4e85-e40f-5558061c67fd"
      },
      "execution_count": null,
      "outputs": [
        {
          "output_type": "execute_result",
          "data": {
            "text/plain": [
              "0.7887004526662893"
            ]
          },
          "metadata": {},
          "execution_count": 4
        }
      ]
    },
    {
      "cell_type": "code",
      "source": [
        "stats.norm.interval(0.7887,loc=50,scale=40/(100**0.5))"
      ],
      "metadata": {
        "colab": {
          "base_uri": "https://localhost:8080/"
        },
        "id": "QKmFVejtC1PE",
        "outputId": "5d5a7965-c13b-4649-c1c9-78417bed5523"
      },
      "execution_count": null,
      "outputs": [
        {
          "output_type": "execute_result",
          "data": {
            "text/plain": [
              "(45.00000495667348, 54.99999504332652)"
            ]
          },
          "metadata": {},
          "execution_count": 5
        }
      ]
    },
    {
      "cell_type": "code",
      "source": [
        "# For Investigation 1-P(45<X<55)\n",
        "1-0.7887"
      ],
      "metadata": {
        "colab": {
          "base_uri": "https://localhost:8080/"
        },
        "id": "hZ2xschGC3Ft",
        "outputId": "6af35a89-2ee4-4fc7-9a95-dd954585de1d"
      },
      "execution_count": null,
      "outputs": [
        {
          "output_type": "execute_result",
          "data": {
            "text/plain": [
              "0.21130000000000004"
            ]
          },
          "metadata": {},
          "execution_count": 6
        }
      ]
    },
    {
      "cell_type": "code",
      "source": [],
      "metadata": {
        "id": "pFVIdG3ZC5GL"
      },
      "execution_count": null,
      "outputs": []
    }
  ]
}